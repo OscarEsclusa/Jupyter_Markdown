{
 "cells": [
  {
   "cell_type": "markdown",
   "id": "7ce37283",
   "metadata": {},
   "source": [
    "# Sprint 2 - Introduccio a Python #"
   ]
  },
  {
   "cell_type": "markdown",
   "id": "d0ea7737",
   "metadata": {},
   "source": [
    "### T01 - Jupyter Notebook i Markdown ###"
   ]
  },
  {
   "cell_type": "markdown",
   "id": "b704561c",
   "metadata": {},
   "source": [
    "***"
   ]
  },
  {
   "cell_type": "markdown",
   "id": "45ee6ab0",
   "metadata": {},
   "source": [
    "A continuacio realitzarem diferents calculs senzills amb **Python** utilitzan **Jupyter Netbook**.\n",
    "Les operacions realitzades seran les següents:\n",
    "* Suma\n",
    "* Resta\n",
    "* Multiplicacio\n",
    "* Divisio\n",
    "* Modul\n",
    "* Exponencial\n"
   ]
  },
  {
   "cell_type": "markdown",
   "id": "6acfdc47",
   "metadata": {},
   "source": [
    "#### *Suma* ####"
   ]
  },
  {
   "cell_type": "code",
   "execution_count": 2,
   "id": "fa9abed3",
   "metadata": {},
   "outputs": [
    {
     "name": "stdout",
     "output_type": "stream",
     "text": [
      "5\n"
     ]
    }
   ],
   "source": [
    "print(2+3)"
   ]
  },
  {
   "cell_type": "markdown",
   "id": "bcd779ee",
   "metadata": {},
   "source": [
    "#### *Resta* ####"
   ]
  },
  {
   "cell_type": "code",
   "execution_count": 3,
   "id": "36e40419",
   "metadata": {},
   "outputs": [
    {
     "name": "stdout",
     "output_type": "stream",
     "text": [
      "-1\n"
     ]
    }
   ],
   "source": [
    "print(2-3)"
   ]
  },
  {
   "cell_type": "markdown",
   "id": "0aa38969",
   "metadata": {},
   "source": [
    "#### *Multiplicacio* ####"
   ]
  },
  {
   "cell_type": "code",
   "execution_count": 4,
   "id": "cc76ec44",
   "metadata": {},
   "outputs": [
    {
     "name": "stdout",
     "output_type": "stream",
     "text": [
      "6\n"
     ]
    }
   ],
   "source": [
    "print(2*3)"
   ]
  },
  {
   "cell_type": "markdown",
   "id": "7dde42d8",
   "metadata": {},
   "source": [
    "#### *Divisio* ####"
   ]
  },
  {
   "cell_type": "code",
   "execution_count": 5,
   "id": "c4f2e0c3",
   "metadata": {},
   "outputs": [
    {
     "name": "stdout",
     "output_type": "stream",
     "text": [
      "0.6666666666666666\n"
     ]
    }
   ],
   "source": [
    "print(2/3)"
   ]
  },
  {
   "cell_type": "markdown",
   "id": "a2a8acd5",
   "metadata": {},
   "source": [
    "#### *Modul* ####"
   ]
  },
  {
   "cell_type": "code",
   "execution_count": 6,
   "id": "f73ef015",
   "metadata": {},
   "outputs": [
    {
     "name": "stdout",
     "output_type": "stream",
     "text": [
      "2\n"
     ]
    }
   ],
   "source": [
    "print(2%3)"
   ]
  },
  {
   "cell_type": "markdown",
   "id": "8a15945e",
   "metadata": {},
   "source": [
    "#### *Exponencial* ####"
   ]
  },
  {
   "cell_type": "code",
   "execution_count": 7,
   "id": "448f1333",
   "metadata": {},
   "outputs": [
    {
     "name": "stdout",
     "output_type": "stream",
     "text": [
      "8\n"
     ]
    }
   ],
   "source": [
    "print(2**3)"
   ]
  },
  {
   "cell_type": "markdown",
   "id": "f084d69a",
   "metadata": {},
   "source": [
    "___"
   ]
  },
  {
   "cell_type": "markdown",
   "id": "4d193c55",
   "metadata": {},
   "source": [
    "Darrerament instalem **Nbextensions** per la gestio d'extensions a *Jupyter Notebook*. Per realitzar la instalacio executarem les següents instruccions desde la linia de comandes:\n",
    "\n",
    "1. pip install jupyter_contrib_nbextensions\n",
    "2. pip install jupyter_nbextensions_configurator\n",
    "3. jupyter contrib nbextensions install --user\n",
    "4. jupyter nbextensions_configurator enable --user\n",
    "\n"
   ]
  },
  {
   "cell_type": "markdown",
   "id": "87e774a1",
   "metadata": {},
   "source": [
    "Un cop realitzada aquest operacion ja podem veure com tenim activada la gestio d'extensions tal com mostra la captura inferior.\n"
   ]
  },
  {
   "cell_type": "markdown",
   "id": "1531b334",
   "metadata": {},
   "source": [
    "![Logo](https://i.imgur.com/yQwjYwa.png)"
   ]
  },
  {
   "cell_type": "markdown",
   "id": "6898142b",
   "metadata": {},
   "source": [
    "***"
   ]
  }
 ],
 "metadata": {
  "kernelspec": {
   "display_name": "Python 3",
   "language": "python",
   "name": "python3"
  },
  "language_info": {
   "codemirror_mode": {
    "name": "ipython",
    "version": 3
   },
   "file_extension": ".py",
   "mimetype": "text/x-python",
   "name": "python",
   "nbconvert_exporter": "python",
   "pygments_lexer": "ipython3",
   "version": "3.8.8"
  }
 },
 "nbformat": 4,
 "nbformat_minor": 5
}
